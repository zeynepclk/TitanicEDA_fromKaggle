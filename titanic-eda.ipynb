{
 "cells": [
  {
   "cell_type": "markdown",
   "id": "4de6f0ef",
   "metadata": {
    "papermill": {
     "duration": 0.010202,
     "end_time": "2022-08-06T15:05:21.196858",
     "exception": false,
     "start_time": "2022-08-06T15:05:21.186656",
     "status": "completed"
    },
    "tags": []
   },
   "source": [
    "# INTRODUCTION\n",
    "The sinking of Titanic is one of the most notorius shipwrecks in the history. In 1912, during her voyage, the Titanic sank after colliding with an iceberg. Killing 1502 out of 2224 passengers and crew.\n",
    "\n",
    "<font color=\"orange\">\n",
    "Content:\n",
    "\n",
    "1.[Load and Check Data](#1) <br>\n",
    "2.[Variable Description](#2) <br>\n",
    "*     [Univariate Variable Analysis](#3) <br>\n",
    " *          [Categorical Variable Analysis](#4) <br>\n",
    " *         [Numerical Variable Analysis](#5) <br>\n",
    "3.[Basic Data Analysis](#6)<br>\n",
    "4.[Outlier Detection](#7)<br>\n",
    "5.[Missing Value](#8)\n",
    "* [Find Missing Value](#9)   \n",
    "* [Fill Missing Value](#10)    "
   ]
  },
  {
   "cell_type": "code",
   "execution_count": 1,
   "id": "abb9d46a",
   "metadata": {
    "_cell_guid": "b1076dfc-b9ad-4769-8c92-a6c4dae69d19",
    "_uuid": "8f2839f25d086af736a60e9eeb907d3b93b6e0e5",
    "execution": {
     "iopub.execute_input": "2022-08-06T15:05:21.216829Z",
     "iopub.status.busy": "2022-08-06T15:05:21.216342Z",
     "iopub.status.idle": "2022-08-06T15:05:22.461766Z",
     "shell.execute_reply": "2022-08-06T15:05:22.460889Z"
    },
    "papermill": {
     "duration": 1.258652,
     "end_time": "2022-08-06T15:05:22.464528",
     "exception": false,
     "start_time": "2022-08-06T15:05:21.205876",
     "status": "completed"
    },
    "tags": []
   },
   "outputs": [
    {
     "name": "stdout",
     "output_type": "stream",
     "text": [
      "/kaggle/input/titanic/train.csv\n",
      "/kaggle/input/titanic/test.csv\n",
      "/kaggle/input/titanic/gender_submission.csv\n"
     ]
    }
   ],
   "source": [
    "# This Python 3 environment comes with many helpful analytics libraries installed\n",
    "# It is defined by the kaggle/python Docker image: https://github.com/kaggle/docker-python\n",
    "# For example, here's several helpful packages to load\n",
    "\n",
    "import numpy as np # linear algebra\n",
    "import pandas as pd # data processing, CSV file I/O (e.g. pd.read_csv)\n",
    "import matplotlib.pyplot as plt\n",
    "plt.style.use(\"seaborn-paper\")\n",
    "\n",
    "import seaborn as sns\n",
    "\n",
    "from collections import Counter\n",
    "\n",
    "import warnings\n",
    "warnings.filterwarnings(\"ignore\")\n",
    "\n",
    "# Input data files are available in the read-only \"../input/\" directory\n",
    "# For example, running this (by clicking run or pressing Shift+Enter) will list all files under the input directory\n",
    "\n",
    "import os\n",
    "for dirname, _, filenames in os.walk('/kaggle/input'):\n",
    "    for filename in filenames:\n",
    "        print(os.path.join(dirname, filename))\n",
    "\n",
    "# You can write up to 20GB to the current directory (/kaggle/working/) that gets preserved as output when you create a version using \"Save & Run All\" \n",
    "# You can also write temporary files to /kaggle/temp/, but they won't be saved outside of the current session"
   ]
  },
  {
   "cell_type": "markdown",
   "id": "757cf246",
   "metadata": {
    "papermill": {
     "duration": 0.008683,
     "end_time": "2022-08-06T15:05:22.482332",
     "exception": false,
     "start_time": "2022-08-06T15:05:22.473649",
     "status": "completed"
    },
    "tags": []
   },
   "source": [
    "<a id=1> </a> <br>\n",
    "## 1. Load and Check Data"
   ]
  },
  {
   "cell_type": "code",
   "execution_count": 2,
   "id": "74ef2565",
   "metadata": {
    "execution": {
     "iopub.execute_input": "2022-08-06T15:05:22.502179Z",
     "iopub.status.busy": "2022-08-06T15:05:22.501489Z",
     "iopub.status.idle": "2022-08-06T15:05:22.539260Z",
     "shell.execute_reply": "2022-08-06T15:05:22.537952Z"
    },
    "papermill": {
     "duration": 0.05078,
     "end_time": "2022-08-06T15:05:22.542013",
     "exception": false,
     "start_time": "2022-08-06T15:05:22.491233",
     "status": "completed"
    },
    "tags": []
   },
   "outputs": [],
   "source": [
    "train_df= pd.read_csv(\"/kaggle/input/titanic/train.csv\")\n",
    "test_df= pd.read_csv(\"/kaggle/input/titanic/test.csv\")\n",
    "\n",
    "test_PassengerId= test_df[\"PassengerId\"]"
   ]
  },
  {
   "cell_type": "code",
   "execution_count": 3,
   "id": "04b1b78f",
   "metadata": {
    "execution": {
     "iopub.execute_input": "2022-08-06T15:05:22.562156Z",
     "iopub.status.busy": "2022-08-06T15:05:22.561636Z",
     "iopub.status.idle": "2022-08-06T15:05:22.571546Z",
     "shell.execute_reply": "2022-08-06T15:05:22.570373Z"
    },
    "papermill": {
     "duration": 0.022383,
     "end_time": "2022-08-06T15:05:22.573847",
     "exception": false,
     "start_time": "2022-08-06T15:05:22.551464",
     "status": "completed"
    },
    "tags": []
   },
   "outputs": [
    {
     "data": {
      "text/plain": [
       "Index(['PassengerId', 'Survived', 'Pclass', 'Name', 'Sex', 'Age', 'SibSp',\n",
       "       'Parch', 'Ticket', 'Fare', 'Cabin', 'Embarked'],\n",
       "      dtype='object')"
      ]
     },
     "execution_count": 3,
     "metadata": {},
     "output_type": "execute_result"
    }
   ],
   "source": [
    "train_df.columns"
   ]
  },
  {
   "cell_type": "code",
   "execution_count": 4,
   "id": "b3bc320a",
   "metadata": {
    "execution": {
     "iopub.execute_input": "2022-08-06T15:05:22.594132Z",
     "iopub.status.busy": "2022-08-06T15:05:22.593705Z",
     "iopub.status.idle": "2022-08-06T15:05:22.615417Z",
     "shell.execute_reply": "2022-08-06T15:05:22.614119Z"
    },
    "papermill": {
     "duration": 0.035244,
     "end_time": "2022-08-06T15:05:22.618475",
     "exception": false,
     "start_time": "2022-08-06T15:05:22.583231",
     "status": "completed"
    },
    "tags": []
   },
   "outputs": [
    {
     "data": {
      "text/html": [
       "<div>\n",
       "<style scoped>\n",
       "    .dataframe tbody tr th:only-of-type {\n",
       "        vertical-align: middle;\n",
       "    }\n",
       "\n",
       "    .dataframe tbody tr th {\n",
       "        vertical-align: top;\n",
       "    }\n",
       "\n",
       "    .dataframe thead th {\n",
       "        text-align: right;\n",
       "    }\n",
       "</style>\n",
       "<table border=\"1\" class=\"dataframe\">\n",
       "  <thead>\n",
       "    <tr style=\"text-align: right;\">\n",
       "      <th></th>\n",
       "      <th>PassengerId</th>\n",
       "      <th>Survived</th>\n",
       "      <th>Pclass</th>\n",
       "      <th>Name</th>\n",
       "      <th>Sex</th>\n",
       "      <th>Age</th>\n",
       "      <th>SibSp</th>\n",
       "      <th>Parch</th>\n",
       "      <th>Ticket</th>\n",
       "      <th>Fare</th>\n",
       "      <th>Cabin</th>\n",
       "      <th>Embarked</th>\n",
       "    </tr>\n",
       "  </thead>\n",
       "  <tbody>\n",
       "    <tr>\n",
       "      <th>0</th>\n",
       "      <td>1</td>\n",
       "      <td>0</td>\n",
       "      <td>3</td>\n",
       "      <td>Braund, Mr. Owen Harris</td>\n",
       "      <td>male</td>\n",
       "      <td>22.0</td>\n",
       "      <td>1</td>\n",
       "      <td>0</td>\n",
       "      <td>A/5 21171</td>\n",
       "      <td>7.2500</td>\n",
       "      <td>NaN</td>\n",
       "      <td>S</td>\n",
       "    </tr>\n",
       "    <tr>\n",
       "      <th>1</th>\n",
       "      <td>2</td>\n",
       "      <td>1</td>\n",
       "      <td>1</td>\n",
       "      <td>Cumings, Mrs. John Bradley (Florence Briggs Th...</td>\n",
       "      <td>female</td>\n",
       "      <td>38.0</td>\n",
       "      <td>1</td>\n",
       "      <td>0</td>\n",
       "      <td>PC 17599</td>\n",
       "      <td>71.2833</td>\n",
       "      <td>C85</td>\n",
       "      <td>C</td>\n",
       "    </tr>\n",
       "    <tr>\n",
       "      <th>2</th>\n",
       "      <td>3</td>\n",
       "      <td>1</td>\n",
       "      <td>3</td>\n",
       "      <td>Heikkinen, Miss. Laina</td>\n",
       "      <td>female</td>\n",
       "      <td>26.0</td>\n",
       "      <td>0</td>\n",
       "      <td>0</td>\n",
       "      <td>STON/O2. 3101282</td>\n",
       "      <td>7.9250</td>\n",
       "      <td>NaN</td>\n",
       "      <td>S</td>\n",
       "    </tr>\n",
       "    <tr>\n",
       "      <th>3</th>\n",
       "      <td>4</td>\n",
       "      <td>1</td>\n",
       "      <td>1</td>\n",
       "      <td>Futrelle, Mrs. Jacques Heath (Lily May Peel)</td>\n",
       "      <td>female</td>\n",
       "      <td>35.0</td>\n",
       "      <td>1</td>\n",
       "      <td>0</td>\n",
       "      <td>113803</td>\n",
       "      <td>53.1000</td>\n",
       "      <td>C123</td>\n",
       "      <td>S</td>\n",
       "    </tr>\n",
       "    <tr>\n",
       "      <th>4</th>\n",
       "      <td>5</td>\n",
       "      <td>0</td>\n",
       "      <td>3</td>\n",
       "      <td>Allen, Mr. William Henry</td>\n",
       "      <td>male</td>\n",
       "      <td>35.0</td>\n",
       "      <td>0</td>\n",
       "      <td>0</td>\n",
       "      <td>373450</td>\n",
       "      <td>8.0500</td>\n",
       "      <td>NaN</td>\n",
       "      <td>S</td>\n",
       "    </tr>\n",
       "  </tbody>\n",
       "</table>\n",
       "</div>"
      ],
      "text/plain": [
       "   PassengerId  Survived  Pclass  \\\n",
       "0            1         0       3   \n",
       "1            2         1       1   \n",
       "2            3         1       3   \n",
       "3            4         1       1   \n",
       "4            5         0       3   \n",
       "\n",
       "                                                Name     Sex   Age  SibSp  \\\n",
       "0                            Braund, Mr. Owen Harris    male  22.0      1   \n",
       "1  Cumings, Mrs. John Bradley (Florence Briggs Th...  female  38.0      1   \n",
       "2                             Heikkinen, Miss. Laina  female  26.0      0   \n",
       "3       Futrelle, Mrs. Jacques Heath (Lily May Peel)  female  35.0      1   \n",
       "4                           Allen, Mr. William Henry    male  35.0      0   \n",
       "\n",
       "   Parch            Ticket     Fare Cabin Embarked  \n",
       "0      0         A/5 21171   7.2500   NaN        S  \n",
       "1      0          PC 17599  71.2833   C85        C  \n",
       "2      0  STON/O2. 3101282   7.9250   NaN        S  \n",
       "3      0            113803  53.1000  C123        S  \n",
       "4      0            373450   8.0500   NaN        S  "
      ]
     },
     "execution_count": 4,
     "metadata": {},
     "output_type": "execute_result"
    }
   ],
   "source": [
    "train_df.head()"
   ]
  },
  {
   "cell_type": "code",
   "execution_count": 5,
   "id": "b19bb2e3",
   "metadata": {
    "execution": {
     "iopub.execute_input": "2022-08-06T15:05:22.640023Z",
     "iopub.status.busy": "2022-08-06T15:05:22.638873Z",
     "iopub.status.idle": "2022-08-06T15:05:22.681506Z",
     "shell.execute_reply": "2022-08-06T15:05:22.680403Z"
    },
    "papermill": {
     "duration": 0.055638,
     "end_time": "2022-08-06T15:05:22.683972",
     "exception": false,
     "start_time": "2022-08-06T15:05:22.628334",
     "status": "completed"
    },
    "tags": []
   },
   "outputs": [
    {
     "data": {
      "text/html": [
       "<div>\n",
       "<style scoped>\n",
       "    .dataframe tbody tr th:only-of-type {\n",
       "        vertical-align: middle;\n",
       "    }\n",
       "\n",
       "    .dataframe tbody tr th {\n",
       "        vertical-align: top;\n",
       "    }\n",
       "\n",
       "    .dataframe thead th {\n",
       "        text-align: right;\n",
       "    }\n",
       "</style>\n",
       "<table border=\"1\" class=\"dataframe\">\n",
       "  <thead>\n",
       "    <tr style=\"text-align: right;\">\n",
       "      <th></th>\n",
       "      <th>PassengerId</th>\n",
       "      <th>Survived</th>\n",
       "      <th>Pclass</th>\n",
       "      <th>Age</th>\n",
       "      <th>SibSp</th>\n",
       "      <th>Parch</th>\n",
       "      <th>Fare</th>\n",
       "    </tr>\n",
       "  </thead>\n",
       "  <tbody>\n",
       "    <tr>\n",
       "      <th>count</th>\n",
       "      <td>891.000000</td>\n",
       "      <td>891.000000</td>\n",
       "      <td>891.000000</td>\n",
       "      <td>714.000000</td>\n",
       "      <td>891.000000</td>\n",
       "      <td>891.000000</td>\n",
       "      <td>891.000000</td>\n",
       "    </tr>\n",
       "    <tr>\n",
       "      <th>mean</th>\n",
       "      <td>446.000000</td>\n",
       "      <td>0.383838</td>\n",
       "      <td>2.308642</td>\n",
       "      <td>29.699118</td>\n",
       "      <td>0.523008</td>\n",
       "      <td>0.381594</td>\n",
       "      <td>32.204208</td>\n",
       "    </tr>\n",
       "    <tr>\n",
       "      <th>std</th>\n",
       "      <td>257.353842</td>\n",
       "      <td>0.486592</td>\n",
       "      <td>0.836071</td>\n",
       "      <td>14.526497</td>\n",
       "      <td>1.102743</td>\n",
       "      <td>0.806057</td>\n",
       "      <td>49.693429</td>\n",
       "    </tr>\n",
       "    <tr>\n",
       "      <th>min</th>\n",
       "      <td>1.000000</td>\n",
       "      <td>0.000000</td>\n",
       "      <td>1.000000</td>\n",
       "      <td>0.420000</td>\n",
       "      <td>0.000000</td>\n",
       "      <td>0.000000</td>\n",
       "      <td>0.000000</td>\n",
       "    </tr>\n",
       "    <tr>\n",
       "      <th>25%</th>\n",
       "      <td>223.500000</td>\n",
       "      <td>0.000000</td>\n",
       "      <td>2.000000</td>\n",
       "      <td>20.125000</td>\n",
       "      <td>0.000000</td>\n",
       "      <td>0.000000</td>\n",
       "      <td>7.910400</td>\n",
       "    </tr>\n",
       "    <tr>\n",
       "      <th>50%</th>\n",
       "      <td>446.000000</td>\n",
       "      <td>0.000000</td>\n",
       "      <td>3.000000</td>\n",
       "      <td>28.000000</td>\n",
       "      <td>0.000000</td>\n",
       "      <td>0.000000</td>\n",
       "      <td>14.454200</td>\n",
       "    </tr>\n",
       "    <tr>\n",
       "      <th>75%</th>\n",
       "      <td>668.500000</td>\n",
       "      <td>1.000000</td>\n",
       "      <td>3.000000</td>\n",
       "      <td>38.000000</td>\n",
       "      <td>1.000000</td>\n",
       "      <td>0.000000</td>\n",
       "      <td>31.000000</td>\n",
       "    </tr>\n",
       "    <tr>\n",
       "      <th>max</th>\n",
       "      <td>891.000000</td>\n",
       "      <td>1.000000</td>\n",
       "      <td>3.000000</td>\n",
       "      <td>80.000000</td>\n",
       "      <td>8.000000</td>\n",
       "      <td>6.000000</td>\n",
       "      <td>512.329200</td>\n",
       "    </tr>\n",
       "  </tbody>\n",
       "</table>\n",
       "</div>"
      ],
      "text/plain": [
       "       PassengerId    Survived      Pclass         Age       SibSp  \\\n",
       "count   891.000000  891.000000  891.000000  714.000000  891.000000   \n",
       "mean    446.000000    0.383838    2.308642   29.699118    0.523008   \n",
       "std     257.353842    0.486592    0.836071   14.526497    1.102743   \n",
       "min       1.000000    0.000000    1.000000    0.420000    0.000000   \n",
       "25%     223.500000    0.000000    2.000000   20.125000    0.000000   \n",
       "50%     446.000000    0.000000    3.000000   28.000000    0.000000   \n",
       "75%     668.500000    1.000000    3.000000   38.000000    1.000000   \n",
       "max     891.000000    1.000000    3.000000   80.000000    8.000000   \n",
       "\n",
       "            Parch        Fare  \n",
       "count  891.000000  891.000000  \n",
       "mean     0.381594   32.204208  \n",
       "std      0.806057   49.693429  \n",
       "min      0.000000    0.000000  \n",
       "25%      0.000000    7.910400  \n",
       "50%      0.000000   14.454200  \n",
       "75%      0.000000   31.000000  \n",
       "max      6.000000  512.329200  "
      ]
     },
     "execution_count": 5,
     "metadata": {},
     "output_type": "execute_result"
    }
   ],
   "source": [
    "train_df.describe()"
   ]
  },
  {
   "cell_type": "markdown",
   "id": "0ab21f28",
   "metadata": {
    "papermill": {
     "duration": 0.009248,
     "end_time": "2022-08-06T15:05:22.704015",
     "exception": false,
     "start_time": "2022-08-06T15:05:22.694767",
     "status": "completed"
    },
    "tags": []
   },
   "source": [
    "<a id=2> </a> <br>\n",
    "## 2. Variable Description\n",
    "\n",
    "1.PassengerId : Unique id number to each passenger <br>\n",
    "2.Survived : Passenger survive(1) or died(0) <br>\n",
    "3.Pclass : Passenger Class<br> \n",
    "4.Name : Passenger Name<br>\n",
    "5.Sex : Gender of Passenger<br>\n",
    "6.Age : Age of Passenger<br>\n",
    "7.SibSp : Number of Siblings/Spouses<br>\n",
    "8.Parch : Number of Parents/children<br>\n",
    "9.Ticket : Ticket number <br>\n",
    "10.Fare : Amount of money spent on ticket <br>\n",
    "11.Cabin : Cabin Category <br>\n",
    "12.Embarked : Port where passenger embarked( C=Cherbourg, Q= Queenstown, S= Southampton) <br>\n"
   ]
  },
  {
   "cell_type": "code",
   "execution_count": 6,
   "id": "11db3a47",
   "metadata": {
    "execution": {
     "iopub.execute_input": "2022-08-06T15:05:22.725433Z",
     "iopub.status.busy": "2022-08-06T15:05:22.724455Z",
     "iopub.status.idle": "2022-08-06T15:05:22.743820Z",
     "shell.execute_reply": "2022-08-06T15:05:22.742865Z"
    },
    "papermill": {
     "duration": 0.032502,
     "end_time": "2022-08-06T15:05:22.746132",
     "exception": false,
     "start_time": "2022-08-06T15:05:22.713630",
     "status": "completed"
    },
    "tags": []
   },
   "outputs": [
    {
     "name": "stdout",
     "output_type": "stream",
     "text": [
      "<class 'pandas.core.frame.DataFrame'>\n",
      "RangeIndex: 891 entries, 0 to 890\n",
      "Data columns (total 12 columns):\n",
      " #   Column       Non-Null Count  Dtype  \n",
      "---  ------       --------------  -----  \n",
      " 0   PassengerId  891 non-null    int64  \n",
      " 1   Survived     891 non-null    int64  \n",
      " 2   Pclass       891 non-null    int64  \n",
      " 3   Name         891 non-null    object \n",
      " 4   Sex          891 non-null    object \n",
      " 5   Age          714 non-null    float64\n",
      " 6   SibSp        891 non-null    int64  \n",
      " 7   Parch        891 non-null    int64  \n",
      " 8   Ticket       891 non-null    object \n",
      " 9   Fare         891 non-null    float64\n",
      " 10  Cabin        204 non-null    object \n",
      " 11  Embarked     889 non-null    object \n",
      "dtypes: float64(2), int64(5), object(5)\n",
      "memory usage: 83.7+ KB\n"
     ]
    }
   ],
   "source": [
    "train_df.info()"
   ]
  },
  {
   "cell_type": "markdown",
   "id": "6e097349",
   "metadata": {
    "papermill": {
     "duration": 0.009477,
     "end_time": "2022-08-06T15:05:22.765562",
     "exception": false,
     "start_time": "2022-08-06T15:05:22.756085",
     "status": "completed"
    },
    "tags": []
   },
   "source": [
    "* float64 (2):  Fare and Age\n",
    "* int64(5): Pclass, Survived, PassengerId, SibSp, Parch\n",
    "* object(5): Name, Sex, Ticket, Cabin, Embarked\n"
   ]
  },
  {
   "cell_type": "markdown",
   "id": "5f9345cc",
   "metadata": {
    "papermill": {
     "duration": 0.009285,
     "end_time": "2022-08-06T15:05:22.785008",
     "exception": false,
     "start_time": "2022-08-06T15:05:22.775723",
     "status": "completed"
    },
    "tags": []
   },
   "source": [
    "<a id=3> </a> <br>\n",
    "### Univariate Variable Analysis\n",
    "* Categorical Variable: Survived, Sex, Pclass, Embarked, Cabin, Name, Ticket,Sibsp and Parch\n",
    "* Numerical Variable: Age, PassengerId, Fare"
   ]
  },
  {
   "cell_type": "markdown",
   "id": "012abc9f",
   "metadata": {
    "papermill": {
     "duration": 0.009224,
     "end_time": "2022-08-06T15:05:22.803876",
     "exception": false,
     "start_time": "2022-08-06T15:05:22.794652",
     "status": "completed"
    },
    "tags": []
   },
   "source": [
    "<a id=4> </a> <br>\n",
    "**Categorical Variable Analysis**\n"
   ]
  },
  {
   "cell_type": "code",
   "execution_count": 7,
   "id": "860876e0",
   "metadata": {
    "execution": {
     "iopub.execute_input": "2022-08-06T15:05:22.825302Z",
     "iopub.status.busy": "2022-08-06T15:05:22.824891Z",
     "iopub.status.idle": "2022-08-06T15:05:22.831920Z",
     "shell.execute_reply": "2022-08-06T15:05:22.830593Z"
    },
    "papermill": {
     "duration": 0.020955,
     "end_time": "2022-08-06T15:05:22.834610",
     "exception": false,
     "start_time": "2022-08-06T15:05:22.813655",
     "status": "completed"
    },
    "tags": []
   },
   "outputs": [],
   "source": [
    "def bar_plot(variable):\n",
    "    \"\"\"\n",
    "    input: variable ex:\"Sex\"\n",
    "    output: bar plot & value count\n",
    "    \"\"\"\n",
    "    # get feature\n",
    "    var= train_df[variable]\n",
    "    # count number of categorical variable(value/sample)\n",
    "    varValue= var.value_counts()\n",
    "    #visualize\n",
    "    plt.figure(figsize=(9,3))\n",
    "    plt.bar(varValue.index, varValue)\n",
    "    plt.xticks(varValue.index, varValue.index.values)\n",
    "    plt.ylabel(\"Frequency\")\n",
    "    plt.title(variable)\n",
    "    plt.show()\n",
    "    print(\"{}: \\n {}\". format(variable,varValue))"
   ]
  },
  {
   "cell_type": "code",
   "execution_count": 8,
   "id": "972f5f0f",
   "metadata": {
    "execution": {
     "iopub.execute_input": "2022-08-06T15:05:22.856816Z",
     "iopub.status.busy": "2022-08-06T15:05:22.855840Z",
     "iopub.status.idle": "2022-08-06T15:05:23.982511Z",
     "shell.execute_reply": "2022-08-06T15:05:23.981049Z"
    },
    "papermill": {
     "duration": 1.14063,
     "end_time": "2022-08-06T15:05:23.985520",
     "exception": false,
     "start_time": "2022-08-06T15:05:22.844890",
     "status": "completed"
    },
    "tags": []
   },
   "outputs": [
    {
     "data": {
      "image/png": "[encoded data removed]",
      "text/plain": [
       "<Figure size 648x216 with 1 Axes>"
      ]
     },
     "metadata": {
      "needs_background": "light"
     },
     "output_type": "display_data"
    },
    {
     "name": "stdout",
     "output_type": "stream",
     "text": [
      "Survived: \n",
      " 0    549\n",
      "1    342\n",
      "Name: Survived, dtype: int64\n"
     ]
    },
    {
     "data": {
      "image/png": "[encoded data removed]",
      "text/plain": [
       "<Figure size 648x216 with 1 Axes>"
      ]
     },
     "metadata": {
      "needs_background": "light"
     },
     "output_type": "display_data"
    },
    {
     "name": "stdout",
     "output_type": "stream",
     "text": [
      "Sex: \n",
      " male      577\n",
      "female    314\n",
      "Name: Sex, dtype: int64\n"
     ]
    },
    {
     "data": {
      "image/png": "[encoded data removed]",
      "text/plain": [
       "<Figure size 648x216 with 1 Axes>"
      ]
     },
     "metadata": {
      "needs_background": "light"
     },
     "output_type": "display_data"
    },
    {
     "name": "stdout",
     "output_type": "stream",
     "text": [
      "Pclass: \n",
      " 3    491\n",
      "1    216\n",
      "2    184\n",
      "Name: Pclass, dtype: int64\n"
     ]
    },
    {
     "data": {
      "image/png": "[encoded data removed]",
      "text/plain": [
       "<Figure size 648x216 with 1 Axes>"
      ]
     },
     "metadata": {
      "needs_background": "light"
     },
     "output_type": "display_data"
    },
    {
     "name": "stdout",
     "output_type": "stream",
     "text": [
      "Embarked: \n",
      " S    644\n",
      "C    168\n",
      "Q     77\n",
      "Name: Embarked, dtype: int64\n"
     ]
    },
    {
     "data": {
      "image/png": "[encoded data removed]",
      "text/plain": [
       "<Figure size 648x216 with 1 Axes>"
      ]
     },
     "metadata": {
      "needs_background": "light"
     },
     "output_type": "display_data"
    },
    {
     "name": "stdout",
     "output_type": "stream",
     "text": [
      "SibSp: \n",
      " 0    608\n",
      "1    209\n",
      "2     28\n",
      "4     18\n",
      "3     16\n",
      "8      7\n",
      "5      5\n",
      "Name: SibSp, dtype: int64\n"
     ]
    },
    {
     "data": {
      "image/png": "[encoded data removed]",
      "text/plain": [
       "<Figure size 648x216 with 1 Axes>"
      ]
     },
     "metadata": {
      "needs_background": "light"
     },
     "output_type": "display_data"
    },
    {
     "name": "stdout",
     "output_type": "stream",
     "text": [
      "Parch: \n",
      " 0    678\n",
      "1    118\n",
      "2     80\n",
      "5      5\n",
      "3      5\n",
      "4      4\n",
      "6      1\n",
      "Name: Parch, dtype: int64\n"
     ]
    }
   ],
   "source": [
    "category1= [\"Survived\",\"Sex\",\"Pclass\",\"Embarked\",\"SibSp\",\"Parch\"]\n",
    "for i in category1:\n",
    "    bar_plot(i)"
   ]
  },
  {
   "cell_type": "code",
   "execution_count": 9,
   "id": "f40e3171",
   "metadata": {
    "execution": {
     "iopub.execute_input": "2022-08-06T15:05:24.011398Z",
     "iopub.status.busy": "2022-08-06T15:05:24.010706Z",
     "iopub.status.idle": "2022-08-06T15:05:24.023707Z",
     "shell.execute_reply": "2022-08-06T15:05:24.021911Z"
    },
    "papermill": {
     "duration": 0.029535,
     "end_time": "2022-08-06T15:05:24.026848",
     "exception": false,
     "start_time": "2022-08-06T15:05:23.997313",
     "status": "completed"
    },
    "tags": []
   },
   "outputs": [
    {
     "name": "stdout",
     "output_type": "stream",
     "text": [
      "B96 B98        4\n",
      "G6             4\n",
      "C23 C25 C27    4\n",
      "C22 C26        3\n",
      "F33            3\n",
      "              ..\n",
      "E34            1\n",
      "C7             1\n",
      "C54            1\n",
      "E36            1\n",
      "C148           1\n",
      "Name: Cabin, Length: 147, dtype: int64 \n",
      "\n",
      "Braund, Mr. Owen Harris                     1\n",
      "Boulos, Mr. Hanna                           1\n",
      "Frolicher-Stehli, Mr. Maxmillian            1\n",
      "Gilinski, Mr. Eliezer                       1\n",
      "Murdlin, Mr. Joseph                         1\n",
      "                                           ..\n",
      "Kelly, Miss. Anna Katherine \"Annie Kate\"    1\n",
      "McCoy, Mr. Bernard                          1\n",
      "Johnson, Mr. William Cahoone Jr             1\n",
      "Keane, Miss. Nora A                         1\n",
      "Dooley, Mr. Patrick                         1\n",
      "Name: Name, Length: 891, dtype: int64 \n",
      "\n",
      "347082      7\n",
      "CA. 2343    7\n",
      "1601        7\n",
      "3101295     6\n",
      "CA 2144     6\n",
      "           ..\n",
      "9234        1\n",
      "19988       1\n",
      "2693        1\n",
      "PC 17612    1\n",
      "370376      1\n",
      "Name: Ticket, Length: 681, dtype: int64 \n",
      "\n"
     ]
    }
   ],
   "source": [
    "category2= [\"Cabin\",\"Name\",\"Ticket\"]\n",
    "for c in category2:\n",
    "    print(\"{} \\n\" .format(train_df[c].value_counts()))"
   ]
  },
  {
   "cell_type": "markdown",
   "id": "cbdff46b",
   "metadata": {
    "papermill": {
     "duration": 0.011901,
     "end_time": "2022-08-06T15:05:24.051152",
     "exception": false,
     "start_time": "2022-08-06T15:05:24.039251",
     "status": "completed"
    },
    "tags": []
   },
   "source": [
    "<a id=5> </a> <br>\n",
    "**Numerical Variable Analysis**"
   ]
  },
  {
   "cell_type": "code",
   "execution_count": 10,
   "id": "b056846b",
   "metadata": {
    "execution": {
     "iopub.execute_input": "2022-08-06T15:05:24.076447Z",
     "iopub.status.busy": "2022-08-06T15:05:24.076022Z",
     "iopub.status.idle": "2022-08-06T15:05:24.082259Z",
     "shell.execute_reply": "2022-08-06T15:05:24.081263Z"
    },
    "papermill": {
     "duration": 0.021591,
     "end_time": "2022-08-06T15:05:24.084502",
     "exception": false,
     "start_time": "2022-08-06T15:05:24.062911",
     "status": "completed"
    },
    "tags": []
   },
   "outputs": [],
   "source": [
    "def plot_hist(variable):\n",
    "    plt.figure(figsize=(9,3))\n",
    "    plt.hist(train_df[variable], bins=50)\n",
    "    plt.xlabel(variable)\n",
    "    plt.ylabel(\"Frequency\")\n",
    "    plt.title(variable + \"distribution with hist\")\n",
    "    plt.show"
   ]
  },
  {
   "cell_type": "code",
   "execution_count": 11,
   "id": "2a7c64cd",
   "metadata": {
    "execution": {
     "iopub.execute_input": "2022-08-06T15:05:24.109781Z",
     "iopub.status.busy": "2022-08-06T15:05:24.109096Z",
     "iopub.status.idle": "2022-08-06T15:05:24.941105Z",
     "shell.execute_reply": "2022-08-06T15:05:24.939946Z"
    },
    "papermill": {
     "duration": 0.847767,
     "end_time": "2022-08-06T15:05:24.943820",
     "exception": false,
     "start_time": "2022-08-06T15:05:24.096053",
     "status": "completed"
    },
    "tags": []
   },
   "outputs": [
    {
     "data": {
      "image/png": "[encoded data removed]",
      "text/plain": [
       "<Figure size 648x216 with 1 Axes>"
      ]
     },
     "metadata": {
      "needs_background": "light"
     },
     "output_type": "display_data"
    },
    {
     "data": {
      "image/png": "[encoded data removed]",
      "text/plain": [
       "<Figure size 648x216 with 1 Axes>"
      ]
     },
     "metadata": {
      "needs_background": "light"
     },
     "output_type": "display_data"
    },
    {
     "data": {
      "image/png": "[encoded data removed]",
      "text/plain": [
       "<Figure size 648x216 with 1 Axes>"
      ]
     },
     "metadata": {
      "needs_background": "light"
     },
     "output_type": "display_data"
    }
   ],
   "source": [
    "numericVar=[\"Fare\",\"Age\",\"PassengerId\"]\n",
    "for n in numericVar:\n",
    "    plot_hist(n)"
   ]
  },
  {
   "cell_type": "markdown",
   "id": "77c9e5db",
   "metadata": {
    "papermill": {
     "duration": 0.011668,
     "end_time": "2022-08-06T15:05:24.968398",
     "exception": false,
     "start_time": "2022-08-06T15:05:24.956730",
     "status": "completed"
    },
    "tags": []
   },
   "source": [
    "<a id=6> </a> <br>\n",
    "## 3.Basic Data Analysis\n",
    "\n",
    "* Pclass - Survived\n",
    "* Sex - Survived\n",
    "* SibSp - Survived\n",
    "* Parch - Survived\n"
   ]
  },
  {
   "cell_type": "markdown",
   "id": "db1bf615",
   "metadata": {
    "papermill": {
     "duration": 0.011747,
     "end_time": "2022-08-06T15:05:24.992325",
     "exception": false,
     "start_time": "2022-08-06T15:05:24.980578",
     "status": "completed"
    },
    "tags": []
   },
   "source": [
    "* **Pclass vs Survived**"
   ]
  },
  {
   "cell_type": "code",
   "execution_count": 12,
   "id": "4b5af17e",
   "metadata": {
    "execution": {
     "iopub.execute_input": "2022-08-06T15:05:25.018917Z",
     "iopub.status.busy": "2022-08-06T15:05:25.018408Z",
     "iopub.status.idle": "2022-08-06T15:05:25.035920Z",
     "shell.execute_reply": "2022-08-06T15:05:25.034856Z"
    },
    "papermill": {
     "duration": 0.033449,
     "end_time": "2022-08-06T15:05:25.038176",
     "exception": false,
     "start_time": "2022-08-06T15:05:25.004727",
     "status": "completed"
    },
    "tags": []
   },
   "outputs": [
    {
     "data": {
      "text/html": [
       "<div>\n",
       "<style scoped>\n",
       "    .dataframe tbody tr th:only-of-type {\n",
       "        vertical-align: middle;\n",
       "    }\n",
       "\n",
       "    .dataframe tbody tr th {\n",
       "        vertical-align: top;\n",
       "    }\n",
       "\n",
       "    .dataframe thead th {\n",
       "        text-align: right;\n",
       "    }\n",
       "</style>\n",
       "<table border=\"1\" class=\"dataframe\">\n",
       "  <thead>\n",
       "    <tr style=\"text-align: right;\">\n",
       "      <th></th>\n",
       "      <th>Pclass</th>\n",
       "      <th>Survived</th>\n",
       "    </tr>\n",
       "  </thead>\n",
       "  <tbody>\n",
       "    <tr>\n",
       "      <th>0</th>\n",
       "      <td>1</td>\n",
       "      <td>0.629630</td>\n",
       "    </tr>\n",
       "    <tr>\n",
       "      <th>1</th>\n",
       "      <td>2</td>\n",
       "      <td>0.472826</td>\n",
       "    </tr>\n",
       "    <tr>\n",
       "      <th>2</th>\n",
       "      <td>3</td>\n",
       "      <td>0.242363</td>\n",
       "    </tr>\n",
       "  </tbody>\n",
       "</table>\n",
       "</div>"
      ],
      "text/plain": [
       "   Pclass  Survived\n",
       "0       1  0.629630\n",
       "1       2  0.472826\n",
       "2       3  0.242363"
      ]
     },
     "execution_count": 12,
     "metadata": {},
     "output_type": "execute_result"
    }
   ],
   "source": [
    "train_df[[\"Pclass\",\"Survived\"]].groupby([\"Pclass\"], as_index= False).mean().sort_values(by=\"Survived\", ascending=False)"
   ]
  },
  {
   "cell_type": "markdown",
   "id": "bc4efe1d",
   "metadata": {
    "execution": {
     "iopub.execute_input": "2022-08-06T14:34:36.789597Z",
     "iopub.status.busy": "2022-08-06T14:34:36.788682Z",
     "iopub.status.idle": "2022-08-06T14:34:36.795063Z",
     "shell.execute_reply": "2022-08-06T14:34:36.793757Z",
     "shell.execute_reply.started": "2022-08-06T14:34:36.789547Z"
    },
    "papermill": {
     "duration": 0.011839,
     "end_time": "2022-08-06T15:05:25.062394",
     "exception": false,
     "start_time": "2022-08-06T15:05:25.050555",
     "status": "completed"
    },
    "tags": []
   },
   "source": [
    "* **Sex vs Survived**"
   ]
  },
  {
   "cell_type": "code",
   "execution_count": 13,
   "id": "67df87fe",
   "metadata": {
    "execution": {
     "iopub.execute_input": "2022-08-06T15:05:25.089811Z",
     "iopub.status.busy": "2022-08-06T15:05:25.089365Z",
     "iopub.status.idle": "2022-08-06T15:05:25.104857Z",
     "shell.execute_reply": "2022-08-06T15:05:25.103905Z"
    },
    "papermill": {
     "duration": 0.031794,
     "end_time": "2022-08-06T15:05:25.107066",
     "exception": false,
     "start_time": "2022-08-06T15:05:25.075272",
     "status": "completed"
    },
    "tags": []
   },
   "outputs": [
    {
     "data": {
      "text/html": [
       "<div>\n",
       "<style scoped>\n",
       "    .dataframe tbody tr th:only-of-type {\n",
       "        vertical-align: middle;\n",
       "    }\n",
       "\n",
       "    .dataframe tbody tr th {\n",
       "        vertical-align: top;\n",
       "    }\n",
       "\n",
       "    .dataframe thead th {\n",
       "        text-align: right;\n",
       "    }\n",
       "</style>\n",
       "<table border=\"1\" class=\"dataframe\">\n",
       "  <thead>\n",
       "    <tr style=\"text-align: right;\">\n",
       "      <th></th>\n",
       "      <th>Sex</th>\n",
       "      <th>Survived</th>\n",
       "    </tr>\n",
       "  </thead>\n",
       "  <tbody>\n",
       "    <tr>\n",
       "      <th>0</th>\n",
       "      <td>female</td>\n",
       "      <td>0.742038</td>\n",
       "    </tr>\n",
       "    <tr>\n",
       "      <th>1</th>\n",
       "      <td>male</td>\n",
       "      <td>0.188908</td>\n",
       "    </tr>\n",
       "  </tbody>\n",
       "</table>\n",
       "</div>"
      ],
      "text/plain": [
       "      Sex  Survived\n",
       "0  female  0.742038\n",
       "1    male  0.188908"
      ]
     },
     "execution_count": 13,
     "metadata": {},
     "output_type": "execute_result"
    }
   ],
   "source": [
    "train_df[[\"Sex\",\"Survived\"]].groupby([\"Sex\"], as_index= False).mean().sort_values(by=\"Survived\", ascending=False)"
   ]
  },
  {
   "cell_type": "markdown",
   "id": "72433576",
   "metadata": {
    "papermill": {
     "duration": 0.012059,
     "end_time": "2022-08-06T15:05:25.131736",
     "exception": false,
     "start_time": "2022-08-06T15:05:25.119677",
     "status": "completed"
    },
    "tags": []
   },
   "source": [
    "* **SibSp vs Survived**"
   ]
  },
  {
   "cell_type": "code",
   "execution_count": 14,
   "id": "801a5340",
   "metadata": {
    "execution": {
     "iopub.execute_input": "2022-08-06T15:05:25.158878Z",
     "iopub.status.busy": "2022-08-06T15:05:25.158445Z",
     "iopub.status.idle": "2022-08-06T15:05:25.174223Z",
     "shell.execute_reply": "2022-08-06T15:05:25.173001Z"
    },
    "papermill": {
     "duration": 0.032018,
     "end_time": "2022-08-06T15:05:25.176628",
     "exception": false,
     "start_time": "2022-08-06T15:05:25.144610",
     "status": "completed"
    },
    "tags": []
   },
   "outputs": [
    {
     "data": {
      "text/html": [
       "<div>\n",
       "<style scoped>\n",
       "    .dataframe tbody tr th:only-of-type {\n",
       "        vertical-align: middle;\n",
       "    }\n",
       "\n",
       "    .dataframe tbody tr th {\n",
       "        vertical-align: top;\n",
       "    }\n",
       "\n",
       "    .dataframe thead th {\n",
       "        text-align: right;\n",
       "    }\n",
       "</style>\n",
       "<table border=\"1\" class=\"dataframe\">\n",
       "  <thead>\n",
       "    <tr style=\"text-align: right;\">\n",
       "      <th></th>\n",
       "      <th>SibSp</th>\n",
       "      <th>Survived</th>\n",
       "    </tr>\n",
       "  </thead>\n",
       "  <tbody>\n",
       "    <tr>\n",
       "      <th>1</th>\n",
       "      <td>1</td>\n",
       "      <td>0.535885</td>\n",
       "    </tr>\n",
       "    <tr>\n",
       "      <th>2</th>\n",
       "      <td>2</td>\n",
       "      <td>0.464286</td>\n",
       "    </tr>\n",
       "    <tr>\n",
       "      <th>0</th>\n",
       "      <td>0</td>\n",
       "      <td>0.345395</td>\n",
       "    </tr>\n",
       "    <tr>\n",
       "      <th>3</th>\n",
       "      <td>3</td>\n",
       "      <td>0.250000</td>\n",
       "    </tr>\n",
       "    <tr>\n",
       "      <th>4</th>\n",
       "      <td>4</td>\n",
       "      <td>0.166667</td>\n",
       "    </tr>\n",
       "    <tr>\n",
       "      <th>5</th>\n",
       "      <td>5</td>\n",
       "      <td>0.000000</td>\n",
       "    </tr>\n",
       "    <tr>\n",
       "      <th>6</th>\n",
       "      <td>8</td>\n",
       "      <td>0.000000</td>\n",
       "    </tr>\n",
       "  </tbody>\n",
       "</table>\n",
       "</div>"
      ],
      "text/plain": [
       "   SibSp  Survived\n",
       "1      1  0.535885\n",
       "2      2  0.464286\n",
       "0      0  0.345395\n",
       "3      3  0.250000\n",
       "4      4  0.166667\n",
       "5      5  0.000000\n",
       "6      8  0.000000"
      ]
     },
     "execution_count": 14,
     "metadata": {},
     "output_type": "execute_result"
    }
   ],
   "source": [
    "train_df[[\"SibSp\",\"Survived\"]].groupby([\"SibSp\"], as_index= False).mean().sort_values(by=\"Survived\", ascending=False)"
   ]
  },
  {
   "cell_type": "markdown",
   "id": "8250bdcd",
   "metadata": {
    "papermill": {
     "duration": 0.012101,
     "end_time": "2022-08-06T15:05:25.201366",
     "exception": false,
     "start_time": "2022-08-06T15:05:25.189265",
     "status": "completed"
    },
    "tags": []
   },
   "source": [
    "* **Parch vs Survived**"
   ]
  },
  {
   "cell_type": "code",
   "execution_count": 15,
   "id": "1938fd07",
   "metadata": {
    "execution": {
     "iopub.execute_input": "2022-08-06T15:05:25.228947Z",
     "iopub.status.busy": "2022-08-06T15:05:25.227902Z",
     "iopub.status.idle": "2022-08-06T15:05:25.241914Z",
     "shell.execute_reply": "2022-08-06T15:05:25.240812Z"
    },
    "papermill": {
     "duration": 0.03039,
     "end_time": "2022-08-06T15:05:25.244268",
     "exception": false,
     "start_time": "2022-08-06T15:05:25.213878",
     "status": "completed"
    },
    "tags": []
   },
   "outputs": [
    {
     "data": {
      "text/html": [
       "<div>\n",
       "<style scoped>\n",
       "    .dataframe tbody tr th:only-of-type {\n",
       "        vertical-align: middle;\n",
       "    }\n",
       "\n",
       "    .dataframe tbody tr th {\n",
       "        vertical-align: top;\n",
       "    }\n",
       "\n",
       "    .dataframe thead th {\n",
       "        text-align: right;\n",
       "    }\n",
       "</style>\n",
       "<table border=\"1\" class=\"dataframe\">\n",
       "  <thead>\n",
       "    <tr style=\"text-align: right;\">\n",
       "      <th></th>\n",
       "      <th>Parch</th>\n",
       "      <th>Survived</th>\n",
       "    </tr>\n",
       "  </thead>\n",
       "  <tbody>\n",
       "    <tr>\n",
       "      <th>3</th>\n",
       "      <td>3</td>\n",
       "      <td>0.600000</td>\n",
       "    </tr>\n",
       "    <tr>\n",
       "      <th>1</th>\n",
       "      <td>1</td>\n",
       "      <td>0.550847</td>\n",
       "    </tr>\n",
       "    <tr>\n",
       "      <th>2</th>\n",
       "      <td>2</td>\n",
       "      <td>0.500000</td>\n",
       "    </tr>\n",
       "    <tr>\n",
       "      <th>0</th>\n",
       "      <td>0</td>\n",
       "      <td>0.343658</td>\n",
       "    </tr>\n",
       "    <tr>\n",
       "      <th>5</th>\n",
       "      <td>5</td>\n",
       "      <td>0.200000</td>\n",
       "    </tr>\n",
       "    <tr>\n",
       "      <th>4</th>\n",
       "      <td>4</td>\n",
       "      <td>0.000000</td>\n",
       "    </tr>\n",
       "    <tr>\n",
       "      <th>6</th>\n",
       "      <td>6</td>\n",
       "      <td>0.000000</td>\n",
       "    </tr>\n",
       "  </tbody>\n",
       "</table>\n",
       "</div>"
      ],
      "text/plain": [
       "   Parch  Survived\n",
       "3      3  0.600000\n",
       "1      1  0.550847\n",
       "2      2  0.500000\n",
       "0      0  0.343658\n",
       "5      5  0.200000\n",
       "4      4  0.000000\n",
       "6      6  0.000000"
      ]
     },
     "execution_count": 15,
     "metadata": {},
     "output_type": "execute_result"
    }
   ],
   "source": [
    "train_df[[\"Parch\",\"Survived\"]].groupby([\"Parch\"], as_index= False).mean().sort_values(by=\"Survived\", ascending=False)"
   ]
  },
  {
   "cell_type": "markdown",
   "id": "868b0e17",
   "metadata": {
    "papermill": {
     "duration": 0.012574,
     "end_time": "2022-08-06T15:05:25.269646",
     "exception": false,
     "start_time": "2022-08-06T15:05:25.257072",
     "status": "completed"
    },
    "tags": []
   },
   "source": [
    "<a id=7> </a> <br>\n",
    "## 4.Outlier Detection"
   ]
  },
  {
   "cell_type": "code",
   "execution_count": 16,
   "id": "5d2cd9b1",
   "metadata": {
    "execution": {
     "iopub.execute_input": "2022-08-06T15:05:25.297361Z",
     "iopub.status.busy": "2022-08-06T15:05:25.296493Z",
     "iopub.status.idle": "2022-08-06T15:05:25.304907Z",
     "shell.execute_reply": "2022-08-06T15:05:25.303675Z"
    },
    "papermill": {
     "duration": 0.025377,
     "end_time": "2022-08-06T15:05:25.307686",
     "exception": false,
     "start_time": "2022-08-06T15:05:25.282309",
     "status": "completed"
    },
    "tags": []
   },
   "outputs": [],
   "source": [
    "def detect_outliers(df,features):\n",
    "    outlier_indices=[]\n",
    "    for c in features:\n",
    "        #1st quartile\n",
    "        Q1= np.percentile(df[c],25)\n",
    "        #3rd quartile\n",
    "        Q3= np.percentile(df[c],75)\n",
    "        #IQR\n",
    "        IQR= Q3-Q1\n",
    "        #Outlier Step\n",
    "        outlier_step= IQR *1.5\n",
    "        #Detect Outlier and Their Indeces\n",
    "        outlier_list_col= df[(df[c]<Q1 - outlier_step) | (df[c]>Q3 + outlier_step)].index\n",
    "        #Store Indeces\n",
    "        outlier_indices.extend(outlier_list_col)\n",
    "    outlier_indices= Counter(outlier_indices) \n",
    "    multiple_outliers= list(i for i, v in outlier_indices.items() if v>2)\n",
    "    return multiple_outliers"
   ]
  },
  {
   "cell_type": "code",
   "execution_count": 17,
   "id": "f1f0427e",
   "metadata": {
    "execution": {
     "iopub.execute_input": "2022-08-06T15:05:25.335551Z",
     "iopub.status.busy": "2022-08-06T15:05:25.334821Z",
     "iopub.status.idle": "2022-08-06T15:05:25.358283Z",
     "shell.execute_reply": "2022-08-06T15:05:25.357039Z"
    },
    "papermill": {
     "duration": 0.040159,
     "end_time": "2022-08-06T15:05:25.360677",
     "exception": false,
     "start_time": "2022-08-06T15:05:25.320518",
     "status": "completed"
    },
    "tags": []
   },
   "outputs": [
    {
     "data": {
      "text/html": [
       "<div>\n",
       "<style scoped>\n",
       "    .dataframe tbody tr th:only-of-type {\n",
       "        vertical-align: middle;\n",
       "    }\n",
       "\n",
       "    .dataframe tbody tr th {\n",
       "        vertical-align: top;\n",
       "    }\n",
       "\n",
       "    .dataframe thead th {\n",
       "        text-align: right;\n",
       "    }\n",
       "</style>\n",
       "<table border=\"1\" class=\"dataframe\">\n",
       "  <thead>\n",
       "    <tr style=\"text-align: right;\">\n",
       "      <th></th>\n",
       "      <th>PassengerId</th>\n",
       "      <th>Survived</th>\n",
       "      <th>Pclass</th>\n",
       "      <th>Name</th>\n",
       "      <th>Sex</th>\n",
       "      <th>Age</th>\n",
       "      <th>SibSp</th>\n",
       "      <th>Parch</th>\n",
       "      <th>Ticket</th>\n",
       "      <th>Fare</th>\n",
       "      <th>Cabin</th>\n",
       "      <th>Embarked</th>\n",
       "    </tr>\n",
       "  </thead>\n",
       "  <tbody>\n",
       "    <tr>\n",
       "      <th>27</th>\n",
       "      <td>28</td>\n",
       "      <td>0</td>\n",
       "      <td>1</td>\n",
       "      <td>Fortune, Mr. Charles Alexander</td>\n",
       "      <td>male</td>\n",
       "      <td>19.0</td>\n",
       "      <td>3</td>\n",
       "      <td>2</td>\n",
       "      <td>19950</td>\n",
       "      <td>263.00</td>\n",
       "      <td>C23 C25 C27</td>\n",
       "      <td>S</td>\n",
       "    </tr>\n",
       "    <tr>\n",
       "      <th>88</th>\n",
       "      <td>89</td>\n",
       "      <td>1</td>\n",
       "      <td>1</td>\n",
       "      <td>Fortune, Miss. Mabel Helen</td>\n",
       "      <td>female</td>\n",
       "      <td>23.0</td>\n",
       "      <td>3</td>\n",
       "      <td>2</td>\n",
       "      <td>19950</td>\n",
       "      <td>263.00</td>\n",
       "      <td>C23 C25 C27</td>\n",
       "      <td>S</td>\n",
       "    </tr>\n",
       "    <tr>\n",
       "      <th>159</th>\n",
       "      <td>160</td>\n",
       "      <td>0</td>\n",
       "      <td>3</td>\n",
       "      <td>Sage, Master. Thomas Henry</td>\n",
       "      <td>male</td>\n",
       "      <td>NaN</td>\n",
       "      <td>8</td>\n",
       "      <td>2</td>\n",
       "      <td>CA. 2343</td>\n",
       "      <td>69.55</td>\n",
       "      <td>NaN</td>\n",
       "      <td>S</td>\n",
       "    </tr>\n",
       "    <tr>\n",
       "      <th>180</th>\n",
       "      <td>181</td>\n",
       "      <td>0</td>\n",
       "      <td>3</td>\n",
       "      <td>Sage, Miss. Constance Gladys</td>\n",
       "      <td>female</td>\n",
       "      <td>NaN</td>\n",
       "      <td>8</td>\n",
       "      <td>2</td>\n",
       "      <td>CA. 2343</td>\n",
       "      <td>69.55</td>\n",
       "      <td>NaN</td>\n",
       "      <td>S</td>\n",
       "    </tr>\n",
       "    <tr>\n",
       "      <th>201</th>\n",
       "      <td>202</td>\n",
       "      <td>0</td>\n",
       "      <td>3</td>\n",
       "      <td>Sage, Mr. Frederick</td>\n",
       "      <td>male</td>\n",
       "      <td>NaN</td>\n",
       "      <td>8</td>\n",
       "      <td>2</td>\n",
       "      <td>CA. 2343</td>\n",
       "      <td>69.55</td>\n",
       "      <td>NaN</td>\n",
       "      <td>S</td>\n",
       "    </tr>\n",
       "    <tr>\n",
       "      <th>324</th>\n",
       "      <td>325</td>\n",
       "      <td>0</td>\n",
       "      <td>3</td>\n",
       "      <td>Sage, Mr. George John Jr</td>\n",
       "      <td>male</td>\n",
       "      <td>NaN</td>\n",
       "      <td>8</td>\n",
       "      <td>2</td>\n",
       "      <td>CA. 2343</td>\n",
       "      <td>69.55</td>\n",
       "      <td>NaN</td>\n",
       "      <td>S</td>\n",
       "    </tr>\n",
       "    <tr>\n",
       "      <th>341</th>\n",
       "      <td>342</td>\n",
       "      <td>1</td>\n",
       "      <td>1</td>\n",
       "      <td>Fortune, Miss. Alice Elizabeth</td>\n",
       "      <td>female</td>\n",
       "      <td>24.0</td>\n",
       "      <td>3</td>\n",
       "      <td>2</td>\n",
       "      <td>19950</td>\n",
       "      <td>263.00</td>\n",
       "      <td>C23 C25 C27</td>\n",
       "      <td>S</td>\n",
       "    </tr>\n",
       "    <tr>\n",
       "      <th>792</th>\n",
       "      <td>793</td>\n",
       "      <td>0</td>\n",
       "      <td>3</td>\n",
       "      <td>Sage, Miss. Stella Anna</td>\n",
       "      <td>female</td>\n",
       "      <td>NaN</td>\n",
       "      <td>8</td>\n",
       "      <td>2</td>\n",
       "      <td>CA. 2343</td>\n",
       "      <td>69.55</td>\n",
       "      <td>NaN</td>\n",
       "      <td>S</td>\n",
       "    </tr>\n",
       "    <tr>\n",
       "      <th>846</th>\n",
       "      <td>847</td>\n",
       "      <td>0</td>\n",
       "      <td>3</td>\n",
       "      <td>Sage, Mr. Douglas Bullen</td>\n",
       "      <td>male</td>\n",
       "      <td>NaN</td>\n",
       "      <td>8</td>\n",
       "      <td>2</td>\n",
       "      <td>CA. 2343</td>\n",
       "      <td>69.55</td>\n",
       "      <td>NaN</td>\n",
       "      <td>S</td>\n",
       "    </tr>\n",
       "    <tr>\n",
       "      <th>863</th>\n",
       "      <td>864</td>\n",
       "      <td>0</td>\n",
       "      <td>3</td>\n",
       "      <td>Sage, Miss. Dorothy Edith \"Dolly\"</td>\n",
       "      <td>female</td>\n",
       "      <td>NaN</td>\n",
       "      <td>8</td>\n",
       "      <td>2</td>\n",
       "      <td>CA. 2343</td>\n",
       "      <td>69.55</td>\n",
       "      <td>NaN</td>\n",
       "      <td>S</td>\n",
       "    </tr>\n",
       "  </tbody>\n",
       "</table>\n",
       "</div>"
      ],
      "text/plain": [
       "     PassengerId  Survived  Pclass                               Name     Sex  \\\n",
       "27            28         0       1     Fortune, Mr. Charles Alexander    male   \n",
       "88            89         1       1         Fortune, Miss. Mabel Helen  female   \n",
       "159          160         0       3         Sage, Master. Thomas Henry    male   \n",
       "180          181         0       3       Sage, Miss. Constance Gladys  female   \n",
       "201          202         0       3                Sage, Mr. Frederick    male   \n",
       "324          325         0       3           Sage, Mr. George John Jr    male   \n",
       "341          342         1       1     Fortune, Miss. Alice Elizabeth  female   \n",
       "792          793         0       3            Sage, Miss. Stella Anna  female   \n",
       "846          847         0       3           Sage, Mr. Douglas Bullen    male   \n",
       "863          864         0       3  Sage, Miss. Dorothy Edith \"Dolly\"  female   \n",
       "\n",
       "      Age  SibSp  Parch    Ticket    Fare        Cabin Embarked  \n",
       "27   19.0      3      2     19950  263.00  C23 C25 C27        S  \n",
       "88   23.0      3      2     19950  263.00  C23 C25 C27        S  \n",
       "159   NaN      8      2  CA. 2343   69.55          NaN        S  \n",
       "180   NaN      8      2  CA. 2343   69.55          NaN        S  \n",
       "201   NaN      8      2  CA. 2343   69.55          NaN        S  \n",
       "324   NaN      8      2  CA. 2343   69.55          NaN        S  \n",
       "341  24.0      3      2     19950  263.00  C23 C25 C27        S  \n",
       "792   NaN      8      2  CA. 2343   69.55          NaN        S  \n",
       "846   NaN      8      2  CA. 2343   69.55          NaN        S  \n",
       "863   NaN      8      2  CA. 2343   69.55          NaN        S  "
      ]
     },
     "execution_count": 17,
     "metadata": {},
     "output_type": "execute_result"
    }
   ],
   "source": [
    "train_df.loc[detect_outliers(train_df,[\"Age\",\"SibSp\",\"Parch\",\"Fare\"])]"
   ]
  },
  {
   "cell_type": "code",
   "execution_count": 18,
   "id": "80dc30d5",
   "metadata": {
    "execution": {
     "iopub.execute_input": "2022-08-06T15:05:25.389648Z",
     "iopub.status.busy": "2022-08-06T15:05:25.388866Z",
     "iopub.status.idle": "2022-08-06T15:05:25.401727Z",
     "shell.execute_reply": "2022-08-06T15:05:25.400640Z"
    },
    "papermill": {
     "duration": 0.029675,
     "end_time": "2022-08-06T15:05:25.404236",
     "exception": false,
     "start_time": "2022-08-06T15:05:25.374561",
     "status": "completed"
    },
    "tags": []
   },
   "outputs": [],
   "source": [
    "#drop outliers\n",
    "train_df=train_df.drop(detect_outliers(train_df,[\"Age\",\"SibSp\",\"Parch\",\"Fare\"]),axis=0).reset_index(drop=True)"
   ]
  },
  {
   "cell_type": "markdown",
   "id": "1ca827a7",
   "metadata": {
    "papermill": {
     "duration": 0.012905,
     "end_time": "2022-08-06T15:05:25.430686",
     "exception": false,
     "start_time": "2022-08-06T15:05:25.417781",
     "status": "completed"
    },
    "tags": []
   },
   "source": [
    "<a id=8> </a> <br>\n",
    "## 5. Missing Value\n",
    "* Find Missing Value   \n",
    "* Fill Missing Value"
   ]
  },
  {
   "cell_type": "code",
   "execution_count": 19,
   "id": "0e6a9fca",
   "metadata": {
    "execution": {
     "iopub.execute_input": "2022-08-06T15:05:25.459345Z",
     "iopub.status.busy": "2022-08-06T15:05:25.458556Z",
     "iopub.status.idle": "2022-08-06T15:05:25.468794Z",
     "shell.execute_reply": "2022-08-06T15:05:25.467832Z"
    },
    "papermill": {
     "duration": 0.027257,
     "end_time": "2022-08-06T15:05:25.471313",
     "exception": false,
     "start_time": "2022-08-06T15:05:25.444056",
     "status": "completed"
    },
    "tags": []
   },
   "outputs": [],
   "source": [
    "train_df_len=len(train_df)\n",
    "train_df=pd.concat([train_df,test_df],axis=0).reset_index(drop=True)"
   ]
  },
  {
   "cell_type": "markdown",
   "id": "e52e1925",
   "metadata": {
    "papermill": {
     "duration": 0.012572,
     "end_time": "2022-08-06T15:05:25.496989",
     "exception": false,
     "start_time": "2022-08-06T15:05:25.484417",
     "status": "completed"
    },
    "tags": []
   },
   "source": [
    "<a id=9> </a> <br>\n",
    " **Find Missing Value**"
   ]
  },
  {
   "cell_type": "code",
   "execution_count": 20,
   "id": "a675a3bb",
   "metadata": {
    "execution": {
     "iopub.execute_input": "2022-08-06T15:05:25.525604Z",
     "iopub.status.busy": "2022-08-06T15:05:25.524781Z",
     "iopub.status.idle": "2022-08-06T15:05:25.534412Z",
     "shell.execute_reply": "2022-08-06T15:05:25.533275Z"
    },
    "papermill": {
     "duration": 0.026878,
     "end_time": "2022-08-06T15:05:25.536787",
     "exception": false,
     "start_time": "2022-08-06T15:05:25.509909",
     "status": "completed"
    },
    "tags": []
   },
   "outputs": [
    {
     "data": {
      "text/plain": [
       "Index(['Survived', 'Age', 'Fare', 'Cabin', 'Embarked'], dtype='object')"
      ]
     },
     "execution_count": 20,
     "metadata": {},
     "output_type": "execute_result"
    }
   ],
   "source": [
    "train_df.columns[train_df.isnull().any()]"
   ]
  },
  {
   "cell_type": "code",
   "execution_count": 21,
   "id": "59e40cd1",
   "metadata": {
    "execution": {
     "iopub.execute_input": "2022-08-06T15:05:25.565772Z",
     "iopub.status.busy": "2022-08-06T15:05:25.564839Z",
     "iopub.status.idle": "2022-08-06T15:05:25.575931Z",
     "shell.execute_reply": "2022-08-06T15:05:25.574865Z"
    },
    "papermill": {
     "duration": 0.02852,
     "end_time": "2022-08-06T15:05:25.578682",
     "exception": false,
     "start_time": "2022-08-06T15:05:25.550162",
     "status": "completed"
    },
    "tags": []
   },
   "outputs": [
    {
     "data": {
      "text/plain": [
       "PassengerId       0\n",
       "Survived        418\n",
       "Pclass            0\n",
       "Name              0\n",
       "Sex               0\n",
       "Age             256\n",
       "SibSp             0\n",
       "Parch             0\n",
       "Ticket            0\n",
       "Fare              1\n",
       "Cabin          1007\n",
       "Embarked          2\n",
       "dtype: int64"
      ]
     },
     "execution_count": 21,
     "metadata": {},
     "output_type": "execute_result"
    }
   ],
   "source": [
    "train_df.isnull().sum()"
   ]
  },
  {
   "cell_type": "markdown",
   "id": "070335dd",
   "metadata": {
    "papermill": {
     "duration": 0.012726,
     "end_time": "2022-08-06T15:05:25.604749",
     "exception": false,
     "start_time": "2022-08-06T15:05:25.592023",
     "status": "completed"
    },
    "tags": []
   },
   "source": [
    "<a id=10> </a> <br>\n",
    " **Fill Missing Value**\n",
    "* Embarked has 2 missing value\n",
    "* Fare has only 1"
   ]
  },
  {
   "cell_type": "code",
   "execution_count": 22,
   "id": "9c107c7e",
   "metadata": {
    "execution": {
     "iopub.execute_input": "2022-08-06T15:05:25.632211Z",
     "iopub.status.busy": "2022-08-06T15:05:25.631790Z",
     "iopub.status.idle": "2022-08-06T15:05:25.649970Z",
     "shell.execute_reply": "2022-08-06T15:05:25.648824Z"
    },
    "papermill": {
     "duration": 0.034801,
     "end_time": "2022-08-06T15:05:25.652504",
     "exception": false,
     "start_time": "2022-08-06T15:05:25.617703",
     "status": "completed"
    },
    "tags": []
   },
   "outputs": [
    {
     "data": {
      "text/html": [
       "<div>\n",
       "<style scoped>\n",
       "    .dataframe tbody tr th:only-of-type {\n",
       "        vertical-align: middle;\n",
       "    }\n",
       "\n",
       "    .dataframe tbody tr th {\n",
       "        vertical-align: top;\n",
       "    }\n",
       "\n",
       "    .dataframe thead th {\n",
       "        text-align: right;\n",
       "    }\n",
       "</style>\n",
       "<table border=\"1\" class=\"dataframe\">\n",
       "  <thead>\n",
       "    <tr style=\"text-align: right;\">\n",
       "      <th></th>\n",
       "      <th>PassengerId</th>\n",
       "      <th>Survived</th>\n",
       "      <th>Pclass</th>\n",
       "      <th>Name</th>\n",
       "      <th>Sex</th>\n",
       "      <th>Age</th>\n",
       "      <th>SibSp</th>\n",
       "      <th>Parch</th>\n",
       "      <th>Ticket</th>\n",
       "      <th>Fare</th>\n",
       "      <th>Cabin</th>\n",
       "      <th>Embarked</th>\n",
       "    </tr>\n",
       "  </thead>\n",
       "  <tbody>\n",
       "    <tr>\n",
       "      <th>60</th>\n",
       "      <td>62</td>\n",
       "      <td>1.0</td>\n",
       "      <td>1</td>\n",
       "      <td>Icard, Miss. Amelie</td>\n",
       "      <td>female</td>\n",
       "      <td>38.0</td>\n",
       "      <td>0</td>\n",
       "      <td>0</td>\n",
       "      <td>113572</td>\n",
       "      <td>80.0</td>\n",
       "      <td>B28</td>\n",
       "      <td>NaN</td>\n",
       "    </tr>\n",
       "    <tr>\n",
       "      <th>821</th>\n",
       "      <td>830</td>\n",
       "      <td>1.0</td>\n",
       "      <td>1</td>\n",
       "      <td>Stone, Mrs. George Nelson (Martha Evelyn)</td>\n",
       "      <td>female</td>\n",
       "      <td>62.0</td>\n",
       "      <td>0</td>\n",
       "      <td>0</td>\n",
       "      <td>113572</td>\n",
       "      <td>80.0</td>\n",
       "      <td>B28</td>\n",
       "      <td>NaN</td>\n",
       "    </tr>\n",
       "  </tbody>\n",
       "</table>\n",
       "</div>"
      ],
      "text/plain": [
       "     PassengerId  Survived  Pclass                                       Name  \\\n",
       "60            62       1.0       1                        Icard, Miss. Amelie   \n",
       "821          830       1.0       1  Stone, Mrs. George Nelson (Martha Evelyn)   \n",
       "\n",
       "        Sex   Age  SibSp  Parch  Ticket  Fare Cabin Embarked  \n",
       "60   female  38.0      0      0  113572  80.0   B28      NaN  \n",
       "821  female  62.0      0      0  113572  80.0   B28      NaN  "
      ]
     },
     "execution_count": 22,
     "metadata": {},
     "output_type": "execute_result"
    }
   ],
   "source": [
    "train_df[train_df[\"Embarked\"].isnull()]"
   ]
  },
  {
   "cell_type": "code",
   "execution_count": 23,
   "id": "61af6726",
   "metadata": {
    "execution": {
     "iopub.execute_input": "2022-08-06T15:05:25.681864Z",
     "iopub.status.busy": "2022-08-06T15:05:25.680932Z",
     "iopub.status.idle": "2022-08-06T15:05:25.917484Z",
     "shell.execute_reply": "2022-08-06T15:05:25.915962Z"
    },
    "papermill": {
     "duration": 0.254331,
     "end_time": "2022-08-06T15:05:25.920285",
     "exception": false,
     "start_time": "2022-08-06T15:05:25.665954",
     "status": "completed"
    },
    "tags": []
   },
   "outputs": [
    {
     "data": {
      "image/png": "[encoded data removed]",
      "text/plain": [
       "<Figure size 460.8x316.8 with 1 Axes>"
      ]
     },
     "metadata": {
      "needs_background": "light"
     },
     "output_type": "display_data"
    }
   ],
   "source": [
    "train_df.boxplot(column=\"Fare\",by=\"Embarked\")\n",
    "plt.show()"
   ]
  },
  {
   "cell_type": "code",
   "execution_count": 24,
   "id": "1a13204a",
   "metadata": {
    "execution": {
     "iopub.execute_input": "2022-08-06T15:05:25.949847Z",
     "iopub.status.busy": "2022-08-06T15:05:25.949453Z",
     "iopub.status.idle": "2022-08-06T15:05:25.961639Z",
     "shell.execute_reply": "2022-08-06T15:05:25.960766Z"
    },
    "papermill": {
     "duration": 0.029944,
     "end_time": "2022-08-06T15:05:25.964002",
     "exception": false,
     "start_time": "2022-08-06T15:05:25.934058",
     "status": "completed"
    },
    "tags": []
   },
   "outputs": [
    {
     "data": {
      "text/html": [
       "<div>\n",
       "<style scoped>\n",
       "    .dataframe tbody tr th:only-of-type {\n",
       "        vertical-align: middle;\n",
       "    }\n",
       "\n",
       "    .dataframe tbody tr th {\n",
       "        vertical-align: top;\n",
       "    }\n",
       "\n",
       "    .dataframe thead th {\n",
       "        text-align: right;\n",
       "    }\n",
       "</style>\n",
       "<table border=\"1\" class=\"dataframe\">\n",
       "  <thead>\n",
       "    <tr style=\"text-align: right;\">\n",
       "      <th></th>\n",
       "      <th>PassengerId</th>\n",
       "      <th>Survived</th>\n",
       "      <th>Pclass</th>\n",
       "      <th>Name</th>\n",
       "      <th>Sex</th>\n",
       "      <th>Age</th>\n",
       "      <th>SibSp</th>\n",
       "      <th>Parch</th>\n",
       "      <th>Ticket</th>\n",
       "      <th>Fare</th>\n",
       "      <th>Cabin</th>\n",
       "      <th>Embarked</th>\n",
       "    </tr>\n",
       "  </thead>\n",
       "  <tbody>\n",
       "  </tbody>\n",
       "</table>\n",
       "</div>"
      ],
      "text/plain": [
       "Empty DataFrame\n",
       "Columns: [PassengerId, Survived, Pclass, Name, Sex, Age, SibSp, Parch, Ticket, Fare, Cabin, Embarked]\n",
       "Index: []"
      ]
     },
     "execution_count": 24,
     "metadata": {},
     "output_type": "execute_result"
    }
   ],
   "source": [
    "train_df[\"Embarked\"]= train_df[\"Embarked\"].fillna(\"C\")\n",
    "train_df[train_df[\"Embarked\"].isnull()]"
   ]
  },
  {
   "cell_type": "code",
   "execution_count": 25,
   "id": "9a7839b2",
   "metadata": {
    "execution": {
     "iopub.execute_input": "2022-08-06T15:05:25.993369Z",
     "iopub.status.busy": "2022-08-06T15:05:25.992755Z",
     "iopub.status.idle": "2022-08-06T15:05:26.007071Z",
     "shell.execute_reply": "2022-08-06T15:05:26.006321Z"
    },
    "papermill": {
     "duration": 0.031791,
     "end_time": "2022-08-06T15:05:26.009406",
     "exception": false,
     "start_time": "2022-08-06T15:05:25.977615",
     "status": "completed"
    },
    "tags": []
   },
   "outputs": [
    {
     "data": {
      "text/html": [
       "<div>\n",
       "<style scoped>\n",
       "    .dataframe tbody tr th:only-of-type {\n",
       "        vertical-align: middle;\n",
       "    }\n",
       "\n",
       "    .dataframe tbody tr th {\n",
       "        vertical-align: top;\n",
       "    }\n",
       "\n",
       "    .dataframe thead th {\n",
       "        text-align: right;\n",
       "    }\n",
       "</style>\n",
       "<table border=\"1\" class=\"dataframe\">\n",
       "  <thead>\n",
       "    <tr style=\"text-align: right;\">\n",
       "      <th></th>\n",
       "      <th>PassengerId</th>\n",
       "      <th>Survived</th>\n",
       "      <th>Pclass</th>\n",
       "      <th>Name</th>\n",
       "      <th>Sex</th>\n",
       "      <th>Age</th>\n",
       "      <th>SibSp</th>\n",
       "      <th>Parch</th>\n",
       "      <th>Ticket</th>\n",
       "      <th>Fare</th>\n",
       "      <th>Cabin</th>\n",
       "      <th>Embarked</th>\n",
       "    </tr>\n",
       "  </thead>\n",
       "  <tbody>\n",
       "    <tr>\n",
       "      <th>1033</th>\n",
       "      <td>1044</td>\n",
       "      <td>NaN</td>\n",
       "      <td>3</td>\n",
       "      <td>Storey, Mr. Thomas</td>\n",
       "      <td>male</td>\n",
       "      <td>60.5</td>\n",
       "      <td>0</td>\n",
       "      <td>0</td>\n",
       "      <td>3701</td>\n",
       "      <td>NaN</td>\n",
       "      <td>NaN</td>\n",
       "      <td>S</td>\n",
       "    </tr>\n",
       "  </tbody>\n",
       "</table>\n",
       "</div>"
      ],
      "text/plain": [
       "      PassengerId  Survived  Pclass                Name   Sex   Age  SibSp  \\\n",
       "1033         1044       NaN       3  Storey, Mr. Thomas  male  60.5      0   \n",
       "\n",
       "      Parch Ticket  Fare Cabin Embarked  \n",
       "1033      0   3701   NaN   NaN        S  "
      ]
     },
     "execution_count": 25,
     "metadata": {},
     "output_type": "execute_result"
    }
   ],
   "source": [
    "train_df[train_df[\"Fare\"].isnull()]"
   ]
  },
  {
   "cell_type": "code",
   "execution_count": 26,
   "id": "2476f679",
   "metadata": {
    "execution": {
     "iopub.execute_input": "2022-08-06T15:05:26.039736Z",
     "iopub.status.busy": "2022-08-06T15:05:26.039109Z",
     "iopub.status.idle": "2022-08-06T15:05:26.045711Z",
     "shell.execute_reply": "2022-08-06T15:05:26.044597Z"
    },
    "papermill": {
     "duration": 0.024596,
     "end_time": "2022-08-06T15:05:26.048182",
     "exception": false,
     "start_time": "2022-08-06T15:05:26.023586",
     "status": "completed"
    },
    "tags": []
   },
   "outputs": [],
   "source": [
    "train_df[\"Fare\"]= train_df[\"Fare\"].fillna(np.mean(train_df[train_df[\"Pclass\"]==3][\"Fare\"]))"
   ]
  }
 ],
 "metadata": {
  "kernelspec": {
   "display_name": "Python 3",
   "language": "python",
   "name": "python3"
  },
  "language_info": {
   "codemirror_mode": {
    "name": "ipython",
    "version": 3
   },
   "file_extension": ".py",
   "mimetype": "text/x-python",
   "name": "python",
   "nbconvert_exporter": "python",
   "pygments_lexer": "ipython3",
   "version": "3.7.12"
  },
  "papermill": {
   "default_parameters": {},
   "duration": 16.176364,
   "end_time": "2022-08-06T15:05:26.784497",
   "environment_variables": {},
   "exception": null,
   "input_path": "__notebook__.ipynb",
   "output_path": "__notebook__.ipynb",
   "parameters": {},
   "start_time": "2022-08-06T15:05:10.608133",
   "version": "2.3.4"
  }
 },
 "nbformat": 4,
 "nbformat_minor": 5
}
